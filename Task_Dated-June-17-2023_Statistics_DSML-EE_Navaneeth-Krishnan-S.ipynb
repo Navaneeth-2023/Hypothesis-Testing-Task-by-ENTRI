{
 "cells": [
  {
   "cell_type": "markdown",
   "id": "f6b7100a",
   "metadata": {},
   "source": [
    "### Hypothesis Testing "
   ]
  },
  {
   "cell_type": "code",
   "execution_count": null,
   "id": "2a073afe",
   "metadata": {},
   "outputs": [],
   "source": [
    "#Question no.1\n",
    "#Suppose a child psychologist says that the average time that working mothers spend talking to their children is \n",
    "#at-least 11 minutes per day. You want to test.\n",
    "#You conduct a random sample of 1000 working mothers and find they spend an average of 11.5 minutes per day \n",
    "#talking with their children. Assume prior research suggests the population standard deviation is 2.3 minutes.\n",
    "#Conduct test with a level of significance of alpha=0.05"
   ]
  },
  {
   "cell_type": "code",
   "execution_count": 2,
   "id": "a910b791",
   "metadata": {},
   "outputs": [
    {
     "name": "stdout",
     "output_type": "stream",
     "text": [
      "The test result is Reject null hypothesis\n"
     ]
    }
   ],
   "source": [
    "#Answer\n",
    "#one-sample Z-test\n",
    "import numpy as np\n",
    "import math\n",
    "from scipy.stats import norm\n",
    "\n",
    "# Given data\n",
    "sample_mean = 11.5\n",
    "#population_std_dev = 2.3\n",
    "#sample_size = 1000\n",
    "#population_mean = 11.0  \n",
    "\n",
    "#here the null hypothesis is\n",
    "null_hypothesis = 11\n",
    "#alternate hypothesis is population mean not equal to 11\n",
    "\n",
    "#sample mean and standard deviation\n",
    "sample_mean = 11.5\n",
    "sample_std = 2.3 / np.sqrt(1000)\n",
    "\n",
    "#Calculating the z-score since sample size is large\n",
    "z_score = (sample_mean - null_hypothesis) / sample_std\n",
    "\n",
    "#Calculating the p-value\n",
    "#if p-value less than 0.05 we can reject null hypothesis\n",
    "p_value = norm.sf(abs(z_score))\n",
    "\n",
    "# Print the results\n",
    "if (p_value<0.05):\n",
    "    result='Reject null hypothesis'\n",
    "else:\n",
    "    result='Accept null hypothesis'\n",
    "\n",
    "print(\"The test result is\",result)"
   ]
  },
  {
   "cell_type": "code",
   "execution_count": null,
   "id": "db88de46",
   "metadata": {},
   "outputs": [],
   "source": [
    "#Question no.2\n",
    "#A coffee shop claims that their average wait time for customers is less than 5 minutes. \n",
    "#To test this claim, a sample of 40 customers is taken, and their wait times are recorded. \n",
    "#The sample mean wait time is found to be 4.6 minutes with a standard deviation of 0.8 minutes. \n",
    "#Perform a hypothesis test at a significance level of 0.05 and determine whether there is enough evidence \n",
    "#to support the coffee shop's claim.\n",
    "#Perform the hypothesis testing using correct test statistics and appropriate critical value"
   ]
  },
  {
   "cell_type": "code",
   "execution_count": 4,
   "id": "7b1c5623",
   "metadata": {},
   "outputs": [
    {
     "name": "stdout",
     "output_type": "stream",
     "text": [
      "Test result = Reject null hypothesis\n"
     ]
    }
   ],
   "source": [
    "#Answer\n",
    "#To perform the hypothesis testing, we can use the t-test. Since the sample size is greater than 30, \n",
    "#we can use the z-test as well. Since the population standard deviation is unknown, we will use the t-test.\n",
    "\n",
    "#The null hypothesis is that the average wait time is equal to 5 minutes. \n",
    "#The alternative hypothesis is that the average wait time is less than 5 minutes.\n",
    "\n",
    "#The level of significance is 0.05.\n",
    "\n",
    "#The test statistic is calculated as follows:\n",
    "\n",
    "#t = (x̄ - μ) / (s / √n)\n",
    "\n",
    "#where x̄ is the sample mean, μ is the population mean (5), s is the sample standard deviation (0.8), \n",
    "#and n is the sample size (40).\n",
    "\n",
    "#Substituting these values into the formula gives:\n",
    "\n",
    "#t = (4.6 - 5) / (0.8 / √40) = -2.236\n",
    "\n",
    "#The degrees of freedom are n - 1 = 39.\n",
    "\n",
    "#Using a t-distribution table with 39 degrees of freedom and a level of significance of 0.05, \n",
    "#we find that the critical value is -1.684\n",
    "\n",
    "#Since our test statistic (-2.236) is less than our critical value (-1.684), we reject the null hypothesis.\n",
    "\n",
    "#Therefore, there is enough evidence to support the coffee shop’s claim that their average wait time for customers\n",
    "#is less than 5 minutes.\n",
    "\n",
    "import math\n",
    "from scipy.stats import t\n",
    "\n",
    "#given\n",
    "sample_mean = 4.6\n",
    "pop_mean = 5\n",
    "sample_std_dev = 0.8\n",
    "sample_size = 40\n",
    "\n",
    "degrees_of_freedom = sample_size - 1\n",
    "\n",
    "alpha = 0.05\n",
    "\n",
    "t_critical = t.ppf(alpha, degrees_of_freedom)\n",
    "\n",
    "t_statistic = (sample_mean - pop_mean) / (sample_std_dev / math.sqrt(sample_size))\n",
    "\n",
    "if t_statistic < t_critical:\n",
    "    print(\"Test result = Reject null hypothesis\")\n",
    "else:\n",
    "    print(\"Test result = Fail to reject null hypothesis\")"
   ]
  },
  {
   "cell_type": "code",
   "execution_count": null,
   "id": "39b41737",
   "metadata": {},
   "outputs": [],
   "source": [
    "# -The End-"
   ]
  }
 ],
 "metadata": {
  "kernelspec": {
   "display_name": "Python 3 (ipykernel)",
   "language": "python",
   "name": "python3"
  },
  "language_info": {
   "codemirror_mode": {
    "name": "ipython",
    "version": 3
   },
   "file_extension": ".py",
   "mimetype": "text/x-python",
   "name": "python",
   "nbconvert_exporter": "python",
   "pygments_lexer": "ipython3",
   "version": "3.11.1"
  }
 },
 "nbformat": 4,
 "nbformat_minor": 5
}
